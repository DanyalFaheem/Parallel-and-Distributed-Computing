{
 "cells": [
  {
   "cell_type": "code",
   "execution_count": 6,
   "metadata": {},
   "outputs": [],
   "source": [
    "# importing required packages\n",
    "from collections import Counter\n",
    "import pandas as pd"
   ]
  },
  {
   "cell_type": "code",
   "execution_count": 7,
   "metadata": {},
   "outputs": [],
   "source": [
    "# Function to split uncleaned data into clean lines of data\n",
    "def splitter(dfs):\n",
    "    # Get only required data\n",
    "    data = list(dfs['Spring-2021']['Tools, Languages/ Technologies'])\n",
    "    data.extend(list(dfs['Spring-2020']['Tools, Languages/ Technologies']))\n",
    "    data.extend(list(dfs['Fall-2020']['Tools, Languages/ Technologies']))\n",
    "    data.extend(list(dfs['Fall-2019']['Tools, Languages/ Technologies']))\n",
    "    # Remove nan values\n",
    "    splitData = [x for x in data if str(x) != 'nan']\n",
    "    return splitData"
   ]
  },
  {
   "cell_type": "code",
   "execution_count": 8,
   "metadata": {},
   "outputs": [],
   "source": [
    "# Our Mapper function, creates bigrams and then key value pairs out of each line in the split data\n",
    "def mapper(splitData):\n",
    "    bigrams = []\n",
    "    for data in splitData:\n",
    "        # Clean each line and remove tools with spaces so as to not get them as bigrams\n",
    "        data = data.replace(\" \", \"\")\n",
    "        data = data.replace(\",\", \" \")\n",
    "        data = data.replace(\"  \", \" \")\n",
    "        data = data.replace(\"  \", \" \")\n",
    "        data = data.split(\" \")\n",
    "        bigrams.extend(data)\n",
    "    # Create bigrams\n",
    "    mappedData = zip(bigrams, bigrams[1:])\n",
    "    return mappedData"
   ]
  },
  {
   "cell_type": "code",
   "execution_count": 9,
   "metadata": {},
   "outputs": [],
   "source": [
    "# Our reducer function which will find the most common bigrams \n",
    "def reducer(mappedData):\n",
    "    # Group by the data\n",
    "    dataToReduce = Counter(mappedData)\n",
    "    # Find most common \n",
    "    reducedData = dataToReduce.most_common()\n",
    "    return reducedData"
   ]
  },
  {
   "cell_type": "code",
   "execution_count": 10,
   "metadata": {},
   "outputs": [
    {
     "name": "stdout",
     "output_type": "stream",
     "text": [
      "(('HTML', 'CSS'), 8)\n",
      "(('Java', 'Python'), 4)\n",
      "(('AndroidStudio', 'Java'), 4)\n",
      "(('Python', 'Java'), 4)\n",
      "(('Python', 'Keras'), 4)\n",
      "(('Python', 'Android'), 3)\n",
      "(('Firebase', 'Java'), 3)\n",
      "(('CSS', 'Bootstrap'), 3)\n",
      "(('Android', 'Firebase'), 3)\n",
      "(('Python', 'RASA'), 3)\n"
     ]
    }
   ],
   "source": [
    "dfs = pd.read_excel(\"BS-FYP repository.xlsx\", sheet_name=None)\n",
    "splitData = splitter(dfs)\n",
    "mappedData = mapper(splitData)\n",
    "reducedData = reducer(mappedData)\n",
    "# Print top 10 answers\n",
    "for i in range(10):\n",
    "    print(reducedData[i])\n"
   ]
  }
 ],
 "metadata": {
  "interpreter": {
   "hash": "7fee64b6d10f71b2ad32d2aedca1959ec8ccaf90c3c6db5aa37e1a96c8621a02"
  },
  "kernelspec": {
   "display_name": "Python 3.8.8 ('DIP')",
   "language": "python",
   "name": "python3"
  },
  "language_info": {
   "codemirror_mode": {
    "name": "ipython",
    "version": 3
   },
   "file_extension": ".py",
   "mimetype": "text/x-python",
   "name": "python",
   "nbconvert_exporter": "python",
   "pygments_lexer": "ipython3",
   "version": "3.8.8"
  },
  "orig_nbformat": 4
 },
 "nbformat": 4,
 "nbformat_minor": 2
}
