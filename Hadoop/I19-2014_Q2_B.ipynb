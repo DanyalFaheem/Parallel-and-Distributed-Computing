{
 "cells": [
  {
   "cell_type": "code",
   "execution_count": 11,
   "metadata": {},
   "outputs": [],
   "source": [
    "import pandas as pd"
   ]
  },
  {
   "cell_type": "code",
   "execution_count": 12,
   "metadata": {},
   "outputs": [],
   "source": [
    "# Our mapper function which will make our key value pairs dataset\n",
    "def mapper(dfs):\n",
    "    df = dfs['Intermediate']['Board']\n",
    "    # Replacing our city names with province names\n",
    "    # Using a Pakistan dataset in a csv file, we can find cities in that dataset and replace with province\n",
    "    for city in df.unique():\n",
    "        if city in pk['city'].unique():\n",
    "            index = pk.index[pk['city'] == city]\n",
    "            df = df.replace(city, pk.at[index.values[0], 'admin_name'])\n",
    "    # Get SAT I and SAT II scores and normalize them on a scale of 0-100\n",
    "    df1 = dfs['SAT II']\n",
    "    df1['Obtained'] = df1['Obtained'].multiply( (1 / 800) * 100)\n",
    "    df3 = dfs['SAT I ']\n",
    "    df3['Obtained'] = df3['Obtained'].multiply( (1 / 2400) * 100)\n",
    "    df2 = pd.DataFrame()\n",
    "    df4 = pd.DataFrame()\n",
    "    df2['BBA'] = dfs['NU Test Marks']['BBA']\n",
    "    df2['BS'] = dfs['NU Test Marks']['BS']\n",
    "    df2['SAT II'] = df1['Obtained']\n",
    "    df2['SAT I'] = df3['Obtained']\n",
    "    # Get maximum scores of each row\n",
    "    df2['Score'] = df2.max(axis=1)\n",
    "    df4['Board'] = df\n",
    "    df4['Score'] = df2['Score']\n",
    "    df4 = df4.dropna()\n",
    "    # Key value pairs created and NULL rows dropped\n",
    "    return df4"
   ]
  },
  {
   "cell_type": "code",
   "execution_count": 13,
   "metadata": {},
   "outputs": [],
   "source": [
    "# Our shuffler function which will group by our data according to Board\n",
    "def shuffler(mappedData):\n",
    "    shuffledData = mappedData.groupby(['Board'])\n",
    "    return shuffledData"
   ]
  },
  {
   "cell_type": "code",
   "execution_count": 14,
   "metadata": {},
   "outputs": [],
   "source": [
    "# Our main reducer function which will calculate average and just find the max value\n",
    "def reducer(shuffledData): \n",
    "    reducedData = shuffledData.mean()\n",
    "    reducedData = reducedData.sort_values('Score', 0, False)\n",
    "    return reducedData"
   ]
  },
  {
   "cell_type": "code",
   "execution_count": 15,
   "metadata": {},
   "outputs": [
    {
     "name": "stdout",
     "output_type": "stream",
     "text": [
      "                        Score\n",
      "Board                        \n",
      "Cambridge           48.516892\n",
      "London              43.208335\n",
      "Agha Khan           41.844598\n",
      "Federal             38.592772\n",
      "Punjab              38.441095\n",
      "Others              37.453503\n",
      "D.G.Khan            36.223820\n",
      "Faislabad           35.765111\n",
      "Mirpur              34.022733\n",
      "Sindh               31.605037\n",
      "Abbotabad           31.310648\n",
      "Sindh Technical     30.864583\n",
      "Khyber Pakhtunkhwa  26.402758\n",
      "D.I.Khan            26.214459\n",
      "Armed Forces        26.034722\n",
      "Hyderabad           25.024569\n",
      "Sawat               22.235532\n",
      "Balochistān         21.451389\n",
      "Sialkot             19.895833\n",
      "Malakand Div        18.287698\n",
      "Punjab Technical    18.029606\n"
     ]
    },
    {
     "name": "stderr",
     "output_type": "stream",
     "text": [
      "<ipython-input-12-68319dafd3ca>:12: SettingWithCopyWarning: \n",
      "A value is trying to be set on a copy of a slice from a DataFrame.\n",
      "Try using .loc[row_indexer,col_indexer] = value instead\n",
      "\n",
      "See the caveats in the documentation: https://pandas.pydata.org/pandas-docs/stable/user_guide/indexing.html#returning-a-view-versus-a-copy\n",
      "  df1['Obtained'] = df1['Obtained'].multiply( (1 / 800) * 100)\n",
      "<ipython-input-12-68319dafd3ca>:14: SettingWithCopyWarning: \n",
      "A value is trying to be set on a copy of a slice from a DataFrame.\n",
      "Try using .loc[row_indexer,col_indexer] = value instead\n",
      "\n",
      "See the caveats in the documentation: https://pandas.pydata.org/pandas-docs/stable/user_guide/indexing.html#returning-a-view-versus-a-copy\n",
      "  df3['Obtained'] = df3['Obtained'].multiply( (1 / 2400) * 100)\n"
     ]
    }
   ],
   "source": [
    "dfs = pd.read_excel(\"Admission 2019 Data for ISB Campus.xlsx\", header=[0, 1])\n",
    "# reading Pakistan data to be used to match cities\n",
    "pk = pd.read_csv(\"pk.csv\")\n",
    "mappedData = mapper(dfs)\n",
    "shuffledData = shuffler(mappedData)\n",
    "reducedData = reducer(shuffledData)\n",
    "print(reducedData)"
   ]
  }
 ],
 "metadata": {
  "interpreter": {
   "hash": "7fee64b6d10f71b2ad32d2aedca1959ec8ccaf90c3c6db5aa37e1a96c8621a02"
  },
  "kernelspec": {
   "display_name": "Python 3.8.8 ('DIP')",
   "language": "python",
   "name": "python3"
  },
  "language_info": {
   "codemirror_mode": {
    "name": "ipython",
    "version": 3
   },
   "file_extension": ".py",
   "mimetype": "text/x-python",
   "name": "python",
   "nbconvert_exporter": "python",
   "pygments_lexer": "ipython3",
   "version": "3.8.8"
  },
  "orig_nbformat": 4
 },
 "nbformat": 4,
 "nbformat_minor": 2
}
