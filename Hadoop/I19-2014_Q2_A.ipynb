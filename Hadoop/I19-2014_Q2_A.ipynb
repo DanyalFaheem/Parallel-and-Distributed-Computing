{
 "cells": [
  {
   "cell_type": "code",
   "execution_count": 6,
   "metadata": {},
   "outputs": [],
   "source": [
    "import pandas as pd"
   ]
  },
  {
   "cell_type": "code",
   "execution_count": 7,
   "metadata": {},
   "outputs": [],
   "source": [
    "# Our main mapper function, will gather data and create key value pairs\n",
    "def mapper(Data):\n",
    "    mappedData = pd.DataFrame()\n",
    "    mappedData['Campus'] = Data['Campus Pref']\n",
    "    mappedData['Discipline'] = Data['Discpline Pref.']\n",
    "    mappedData = mappedData.iloc[1: , :]\n",
    "    mappedData = mappedData.dropna()\n",
    "    return mappedData"
   ]
  },
  {
   "cell_type": "code",
   "execution_count": 8,
   "metadata": {},
   "outputs": [],
   "source": [
    "# Our shuffler will group the data according to Campus\n",
    "def shuffler(mappedData):\n",
    "    shuffledData = mappedData.groupby(['Campus'])\n",
    "    return shuffledData"
   ]
  },
  {
   "cell_type": "code",
   "execution_count": 9,
   "metadata": {},
   "outputs": [],
   "source": [
    "# Our reducer will calculate the frequency and the count of each campus application\n",
    "def reducer(shuffledData):\n",
    "    print(shuffledData.count().sort_values('Discipline', 0, False))\n",
    "    print(shuffledData.agg(pd.Series.mode))\n",
    "    "
   ]
  },
  {
   "cell_type": "code",
   "execution_count": 10,
   "metadata": {},
   "outputs": [
    {
     "name": "stdout",
     "output_type": "stream",
     "text": [
      "        Discipline\n",
      "Campus            \n",
      "LHR           9248\n",
      "ISB           8357\n",
      "KHI           4043\n",
      "CFD           1255\n",
      "PWR            857\n",
      "       Discipline\n",
      "Campus           \n",
      "CFD        BS(CS)\n",
      "ISB        BS(CS)\n",
      "KHI        BS(CS)\n",
      "LHR        BS(CS)\n",
      "PWR        BS(EE)\n"
     ]
    }
   ],
   "source": [
    "dfs = pd.read_excel(\"Admission 2019 Data for ISB Campus.xlsx\")\n",
    "mappedData = mapper(dfs)\n",
    "shuffledData = shuffler(mappedData)\n",
    "reducer(shuffledData)"
   ]
  }
 ],
 "metadata": {
  "interpreter": {
   "hash": "7fee64b6d10f71b2ad32d2aedca1959ec8ccaf90c3c6db5aa37e1a96c8621a02"
  },
  "kernelspec": {
   "display_name": "Python 3.8.8 ('DIP')",
   "language": "python",
   "name": "python3"
  },
  "language_info": {
   "codemirror_mode": {
    "name": "ipython",
    "version": 3
   },
   "file_extension": ".py",
   "mimetype": "text/x-python",
   "name": "python",
   "nbconvert_exporter": "python",
   "pygments_lexer": "ipython3",
   "version": "3.8.8"
  },
  "orig_nbformat": 4
 },
 "nbformat": 4,
 "nbformat_minor": 2
}
